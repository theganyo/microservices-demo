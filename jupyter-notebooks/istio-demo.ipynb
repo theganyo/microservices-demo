{
 "cells": [
  {
   "cell_type": "code",
   "execution_count": null,
   "metadata": {},
   "outputs": [],
   "source": [
    "%env kubectl=/Users/theganyo/dev/google-cloud-sdk/bin/kubectl\n",
    "%env istio=/Users/theganyo/Downloads/istio-1.0.2\n",
    "%env istioctl=/Users/theganyo/Downloads/istio-1.0.2/bin/istioctl\n",
    "%env ingress=35.225.154.183\n",
    "%env demo=/Users/theganyo/dev/fazio/microservices-demo"
   ]
  },
  {
   "cell_type": "markdown",
   "metadata": {},
   "source": [
    "---\n",
    "## Fazio Retail Shop UI\n",
    "\n",
    "https://35.225.154.183/"
   ]
  },
  {
   "cell_type": "markdown",
   "metadata": {},
   "source": [
    "---\n",
    "## Architectural Diagram\n",
    "\n",
    "![architecture](https://raw.githubusercontent.com/theganyo/microservices-demo/fazio-playground/img/architecture-diagram.jpeg)"
   ]
  },
  {
   "cell_type": "markdown",
   "metadata": {},
   "source": [
    "---\n",
    "## I've heard that blue is hip color!\n",
    "\n",
    "But is it really? Let's canary test a blue front-end. We'll route 20% of traffic to the blue version."
   ]
  },
  {
   "cell_type": "code",
   "execution_count": null,
   "metadata": {},
   "outputs": [],
   "source": [
    "%%bash\n",
    "cat <<EOF | $kubectl apply -f -\n",
    "\n",
    "apiVersion: networking.istio.io/v1alpha3\n",
    "kind: VirtualService\n",
    "metadata:\n",
    "  name: frontend-ingress\n",
    "spec:\n",
    "  gateways:\n",
    "  - frontend-gateway\n",
    "  hosts:\n",
    "  - '*'\n",
    "  http:\n",
    "  - route:\n",
    "    - destination:\n",
    "        host: frontend\n",
    "        subset: grey\n",
    "      weight: 80\n",
    "    - destination:\n",
    "        host: frontend\n",
    "        subset: blue\n",
    "      weight: 20\n",
    "\n",
    "EOF"
   ]
  },
  {
   "cell_type": "markdown",
   "metadata": {},
   "source": [
    "---\n",
    "## It turns out, customers prefer grey.\n",
    "\n",
    "Let's revert that change."
   ]
  },
  {
   "cell_type": "code",
   "execution_count": null,
   "metadata": {},
   "outputs": [],
   "source": [
    "%%bash\n",
    "cat <<EOF | $kubectl apply -f -\n",
    "\n",
    "apiVersion: networking.istio.io/v1alpha3\n",
    "kind: VirtualService\n",
    "metadata:\n",
    "  name: frontend-ingress\n",
    "spec:\n",
    "  gateways:\n",
    "  - frontend-gateway\n",
    "  hosts:\n",
    "  - '*'\n",
    "  http:\n",
    "  - route:\n",
    "    - destination:\n",
    "        host: frontend\n",
    "        subset: grey\n",
    "      weight: 100\n",
    "\n",
    "EOF"
   ]
  },
  {
   "cell_type": "markdown",
   "metadata": {},
   "source": [
    "---\n",
    "## Jaeger UI\n",
    "\n",
    "Run in console:\n",
    "\n",
    "    kubectl port-forward -n istio-system $(kubectl get pod -n istio-system -l app=jaeger -o jsonpath='{.items[0].metadata.name}') 16686:16686 &\n",
    "    \n",
    "http://localhost:16686/search?service=emailservice"
   ]
  },
  {
   "cell_type": "markdown",
   "metadata": {},
   "source": [
    "---\n",
    "## Grafana UI\n",
    "\n",
    "Run in console:\n",
    "\n",
    "    kubectl -n istio-system port-forward $(kubectl -n istio-system get pod -l app=grafana -o jsonpath='{.items[0].metadata.name}') 3000:3000 &\n",
    "    \n",
    "http://localhost:3000/d/3/pilot-dashboard\n",
    "\n",
    "http://localhost:3000/d/LJ_uJAvmk/istio-service-dashboard?var-service=frontend.default.svc.cluster.local"
   ]
  },
  {
   "cell_type": "code",
   "execution_count": null,
   "metadata": {},
   "outputs": [],
   "source": []
  }
 ],
 "metadata": {
  "kernelspec": {
   "display_name": "Python 3",
   "language": "python",
   "name": "python3"
  },
  "language_info": {
   "codemirror_mode": {
    "name": "ipython",
    "version": 3
   },
   "file_extension": ".py",
   "mimetype": "text/x-python",
   "name": "python",
   "nbconvert_exporter": "python",
   "pygments_lexer": "ipython3",
   "version": "3.6.5"
  }
 },
 "nbformat": 4,
 "nbformat_minor": 2
}
